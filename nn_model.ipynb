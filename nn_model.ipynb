{
 "cells": [
  {
   "cell_type": "code",
   "execution_count": 85,
   "metadata": {},
   "outputs": [],
   "source": [
    "import numpy as np\n",
    "import matplotlib.pyplot as plt\n",
    "import cv2\n",
    "import os\n",
    "import json"
   ]
  },
  {
   "cell_type": "code",
   "execution_count": 86,
   "metadata": {},
   "outputs": [
    {
     "data": {
      "text/plain": [
       "{'Alan_Turing': 0, 'Albert_Einstein': 1, 'Isaac_Newton': 2, 'Marie_Curie': 3}"
      ]
     },
     "execution_count": 86,
     "metadata": {},
     "output_type": "execute_result"
    }
   ],
   "source": [
    "with open('class_dictionary.json') as class_file:\n",
    "    class_dict = json.load(class_file)\n",
    "class_dict"
   ]
  },
  {
   "cell_type": "code",
   "execution_count": 87,
   "metadata": {},
   "outputs": [
    {
     "data": {
      "text/plain": [
       "['dataset\\\\cropped\\\\Alan_Turing',\n",
       " 'dataset\\\\cropped\\\\Albert_Einstein',\n",
       " 'dataset\\\\cropped\\\\Isaac_Newton',\n",
       " 'dataset\\\\cropped\\\\Marie_Curie']"
      ]
     },
     "execution_count": 87,
     "metadata": {},
     "output_type": "execute_result"
    }
   ],
   "source": [
    "import os\n",
    "img_dirs = []\n",
    "for entry in os.scandir('dataset\\cropped'):\n",
    "    if entry.is_dir():\n",
    "        img_dirs.append(entry.path)\n",
    "img_dirs"
   ]
  },
  {
   "cell_type": "code",
   "execution_count": 88,
   "metadata": {},
   "outputs": [
    {
     "name": "stdout",
     "output_type": "stream",
     "text": [
      "119\n",
      "119\n"
     ]
    }
   ],
   "source": [
    "SIZE = (64, 64)\n",
    "X, y = [], []\n",
    "for img_dir in img_dirs:\n",
    "    scientist_name = img_dir.split('\\\\')[-1]\n",
    "    for entry in os.scandir(img_dir):\n",
    "        img = cv2.imread(entry.path)\n",
    "        if img is None:\n",
    "            continue\n",
    "        resized_img = cv2.resize(img, SIZE)\n",
    "        X.append(resized_img)\n",
    "        y.append(class_dict[scientist_name])\n",
    "\n",
    "print(len(X))\n",
    "print(len(y))"
   ]
  },
  {
   "cell_type": "code",
   "execution_count": 89,
   "metadata": {},
   "outputs": [
    {
     "data": {
      "image/png": "[encoded data removed]",
      "text/plain": [
       "<Figure size 640x480 with 1 Axes>"
      ]
     },
     "metadata": {},
     "output_type": "display_data"
    }
   ],
   "source": [
    "plt.imshow(X[0])\n",
    "plt.title(list(class_dict.keys())[y[0]])\n",
    "plt.axis('off')\n",
    "plt.show()"
   ]
  },
  {
   "cell_type": "markdown",
   "metadata": {},
   "source": [
    "### Split into Train/Test"
   ]
  },
  {
   "cell_type": "code",
   "execution_count": 90,
   "metadata": {},
   "outputs": [],
   "source": [
    "X = np.array(X)\n",
    "y = np.array(y)"
   ]
  },
  {
   "cell_type": "code",
   "execution_count": 91,
   "metadata": {},
   "outputs": [],
   "source": [
    "from sklearn.model_selection import train_test_split\n",
    "from sklearn.metrics import classification_report"
   ]
  },
  {
   "cell_type": "code",
   "execution_count": 92,
   "metadata": {},
   "outputs": [
    {
     "name": "stdout",
     "output_type": "stream",
     "text": [
      "(107, 64, 64, 3)\n",
      "(107,)\n",
      "(12, 64, 64, 3)\n",
      "(12,)\n"
     ]
    }
   ],
   "source": [
    "X_train, X_test, y_train, y_test = train_test_split(X, y, test_size=0.1, random_state=42)\n",
    "print(X_train.shape)\n",
    "print(y_train.shape)\n",
    "print(X_test.shape)\n",
    "print(y_test.shape)"
   ]
  },
  {
   "cell_type": "code",
   "execution_count": 93,
   "metadata": {},
   "outputs": [],
   "source": [
    "# Reshape & Scale Input\n",
    "X_train = X_train.astype(float).reshape(-1, 64, 64, 3) / 255.0\n",
    "X_test = X_test.astype(float).reshape(-1, 64, 64, 3) / 255.0"
   ]
  },
  {
   "cell_type": "markdown",
   "metadata": {},
   "source": [
    "### Build the Neural Network"
   ]
  },
  {
   "cell_type": "code",
   "execution_count": 94,
   "metadata": {},
   "outputs": [],
   "source": [
    "import tensorflow as tf\n",
    "from tensorflow import keras\n",
    "from keras.models import Sequential\n",
    "from keras.layers import Dense, Dropout, Flatten, Conv2D, MaxPool2D\n",
    "from keras.optimizers import Adam\n",
    "from keras.preprocessing.image import ImageDataGenerator"
   ]
  },
  {
   "cell_type": "code",
   "execution_count": 95,
   "metadata": {},
   "outputs": [],
   "source": [
    "INPUT_SHAPE = (64, 64, 3)\n",
    "OUTPUT_CLASSES = 4\n",
    "\n",
    "def build_model():\n",
    "    model = Sequential()\n",
    "    model.add(Conv2D(32, (4,4), strides=(1,1), padding='Same', activation='relu', input_shape=(INPUT_SHAPE)))\n",
    "    model.add(Conv2D(32, (2,2), strides=(1,1), padding='Same', activation='relu'))\n",
    "    model.add(Flatten())\n",
    "    model.add(Dense(512, activation='relu'))\n",
    "    model.add(Dense(256, activation='relu'))\n",
    "    model.add(Dense(OUTPUT_CLASSES, activation='linear'))\n",
    "    return model"
   ]
  },
  {
   "cell_type": "code",
   "execution_count": 96,
   "metadata": {},
   "outputs": [],
   "source": [
    "model = build_model()"
   ]
  },
  {
   "cell_type": "code",
   "execution_count": 97,
   "metadata": {},
   "outputs": [
    {
     "name": "stdout",
     "output_type": "stream",
     "text": [
      "Model: \"sequential_1\"\n",
      "_________________________________________________________________\n",
      " Layer (type)                Output Shape              Param #   \n",
      "=================================================================\n",
      " conv2d_2 (Conv2D)           (None, 64, 64, 32)        1568      \n",
      "                                                                 \n",
      " conv2d_3 (Conv2D)           (None, 64, 64, 32)        4128      \n",
      "                                                                 \n",
      " flatten_1 (Flatten)         (None, 131072)            0         \n",
      "                                                                 \n",
      " dense_3 (Dense)             (None, 512)               67109376  \n",
      "                                                                 \n",
      " dense_4 (Dense)             (None, 256)               131328    \n",
      "                                                                 \n",
      " dense_5 (Dense)             (None, 4)                 1028      \n",
      "                                                                 \n",
      "=================================================================\n",
      "Total params: 67247428 (256.53 MB)\n",
      "Trainable params: 67247428 (256.53 MB)\n",
      "Non-trainable params: 0 (0.00 Byte)\n",
      "_________________________________________________________________\n"
     ]
    }
   ],
   "source": [
    "model.summary()"
   ]
  },
  {
   "cell_type": "code",
   "execution_count": 109,
   "metadata": {},
   "outputs": [],
   "source": [
    "model.compile(\n",
    "    optimizer=Adam(learning_rate=0.001),\n",
    "    loss='binary_crossentropy',\n",
    "    metrics=['accuracy']\n",
    ")"
   ]
  },
  {
   "cell_type": "markdown",
   "metadata": {},
   "source": [
    "### Data Augmantation"
   ]
  },
  {
   "cell_type": "code",
   "execution_count": 110,
   "metadata": {},
   "outputs": [],
   "source": [
    "datagen = ImageDataGenerator(\n",
    "    rotation_range=5,\n",
    "    zoom_range = 0.1,\n",
    "    width_shift_range=0.1,\n",
    "    height_shift_range=0.1,\n",
    "    horizontal_flip=False,\n",
    "    vertical_flip=False\n",
    ")\n",
    "\n",
    "datagen.fit(X_train)"
   ]
  },
  {
   "cell_type": "markdown",
   "metadata": {},
   "source": [
    "### Training the model"
   ]
  },
  {
   "cell_type": "code",
   "execution_count": 111,
   "metadata": {},
   "outputs": [
    {
     "name": "stdout",
     "output_type": "stream",
     "text": [
      "Epoch 1/60\n",
      "4/4 [==============================] - 11s 2s/step - loss: 0.7280 - accuracy: 0.3084\n",
      "Epoch 2/60\n",
      "4/4 [==============================] - 7s 2s/step - loss: -8.5510 - accuracy: 0.3271\n",
      "Epoch 3/60\n",
      "4/4 [==============================] - 7s 2s/step - loss: -8.5510 - accuracy: 0.3271\n",
      "Epoch 4/60\n",
      "4/4 [==============================] - 8s 2s/step - loss: -8.5510 - accuracy: 0.3271\n",
      "Epoch 5/60\n",
      "4/4 [==============================] - 7s 2s/step - loss: -8.5510 - accuracy: 0.3271\n",
      "Epoch 6/60\n",
      "4/4 [==============================] - 7s 2s/step - loss: -8.5510 - accuracy: 0.3271\n",
      "Epoch 7/60\n",
      "4/4 [==============================] - 8s 2s/step - loss: -8.5510 - accuracy: 0.3271\n",
      "Epoch 8/60\n",
      "4/4 [==============================] - 7s 2s/step - loss: -8.5510 - accuracy: 0.3271\n",
      "Epoch 9/60\n",
      "4/4 [==============================] - 7s 2s/step - loss: -8.5510 - accuracy: 0.3271\n",
      "Epoch 10/60\n",
      "4/4 [==============================] - 7s 2s/step - loss: -8.5510 - accuracy: 0.3271\n",
      "Epoch 11/60\n",
      "4/4 [==============================] - 6s 2s/step - loss: -8.5510 - accuracy: 0.3271\n",
      "Epoch 12/60\n",
      "4/4 [==============================] - 6s 2s/step - loss: -8.5510 - accuracy: 0.3271\n",
      "Epoch 13/60\n",
      "4/4 [==============================] - 7s 2s/step - loss: -8.5510 - accuracy: 0.3271\n",
      "Epoch 14/60\n",
      "4/4 [==============================] - 7s 2s/step - loss: -8.5510 - accuracy: 0.3271\n",
      "Epoch 15/60\n",
      "4/4 [==============================] - 7s 2s/step - loss: -8.5510 - accuracy: 0.3271\n",
      "Epoch 16/60\n",
      "4/4 [==============================] - 6s 2s/step - loss: -8.5510 - accuracy: 0.3271\n",
      "Epoch 17/60\n",
      "4/4 [==============================] - 6s 2s/step - loss: -8.5510 - accuracy: 0.3271\n",
      "Epoch 18/60\n",
      "4/4 [==============================] - 6s 2s/step - loss: -8.5510 - accuracy: 0.3271\n",
      "Epoch 19/60\n",
      "4/4 [==============================] - 7s 2s/step - loss: -8.5510 - accuracy: 0.3271\n",
      "Epoch 20/60\n",
      "4/4 [==============================] - 7s 2s/step - loss: -8.5510 - accuracy: 0.3271\n",
      "Epoch 21/60\n",
      "4/4 [==============================] - 7s 2s/step - loss: -8.5510 - accuracy: 0.3271\n",
      "Epoch 22/60\n",
      "4/4 [==============================] - 7s 2s/step - loss: -8.5510 - accuracy: 0.3271\n",
      "Epoch 23/60\n",
      "4/4 [==============================] - 7s 2s/step - loss: -8.5510 - accuracy: 0.3271\n",
      "Epoch 24/60\n",
      "4/4 [==============================] - 6s 2s/step - loss: -8.5510 - accuracy: 0.3271\n",
      "Epoch 25/60\n",
      "4/4 [==============================] - 6s 2s/step - loss: -8.5510 - accuracy: 0.3271\n",
      "Epoch 26/60\n",
      "4/4 [==============================] - 6s 2s/step - loss: -8.5510 - accuracy: 0.3271\n",
      "Epoch 27/60\n",
      "4/4 [==============================] - 6s 2s/step - loss: -8.5510 - accuracy: 0.3271\n",
      "Epoch 28/60\n",
      "4/4 [==============================] - 6s 2s/step - loss: -8.5510 - accuracy: 0.3271\n",
      "Epoch 29/60\n",
      "4/4 [==============================] - 6s 2s/step - loss: -8.5510 - accuracy: 0.3271\n",
      "Epoch 30/60\n",
      "4/4 [==============================] - 6s 2s/step - loss: -8.5510 - accuracy: 0.3271\n",
      "Epoch 31/60\n",
      "4/4 [==============================] - 6s 2s/step - loss: -8.5510 - accuracy: 0.3271\n",
      "Epoch 32/60\n",
      "4/4 [==============================] - 6s 2s/step - loss: -8.5510 - accuracy: 0.3271\n",
      "Epoch 33/60\n",
      "4/4 [==============================] - 6s 2s/step - loss: -8.5510 - accuracy: 0.3271\n",
      "Epoch 34/60\n",
      "4/4 [==============================] - 6s 2s/step - loss: -8.5510 - accuracy: 0.3271\n",
      "Epoch 35/60\n",
      "4/4 [==============================] - 6s 2s/step - loss: -8.5510 - accuracy: 0.3271\n",
      "Epoch 36/60\n",
      "4/4 [==============================] - 6s 2s/step - loss: -8.5510 - accuracy: 0.3271\n",
      "Epoch 37/60\n",
      "4/4 [==============================] - 6s 2s/step - loss: -8.5510 - accuracy: 0.3271\n",
      "Epoch 38/60\n",
      "4/4 [==============================] - 6s 2s/step - loss: -8.5510 - accuracy: 0.3271\n",
      "Epoch 39/60\n",
      "4/4 [==============================] - 6s 2s/step - loss: -8.5510 - accuracy: 0.3271\n",
      "Epoch 40/60\n",
      "4/4 [==============================] - 6s 2s/step - loss: -8.5510 - accuracy: 0.3271\n",
      "Epoch 41/60\n",
      "4/4 [==============================] - 6s 2s/step - loss: -8.5510 - accuracy: 0.3271\n",
      "Epoch 42/60\n",
      "4/4 [==============================] - 6s 2s/step - loss: -8.5510 - accuracy: 0.3271\n",
      "Epoch 43/60\n",
      "4/4 [==============================] - 6s 2s/step - loss: -8.5510 - accuracy: 0.3271\n",
      "Epoch 44/60\n",
      "4/4 [==============================] - 6s 2s/step - loss: -8.5510 - accuracy: 0.3271\n",
      "Epoch 45/60\n",
      "4/4 [==============================] - 6s 2s/step - loss: -8.5510 - accuracy: 0.3271\n",
      "Epoch 46/60\n",
      "4/4 [==============================] - 7s 2s/step - loss: -8.5510 - accuracy: 0.3271\n",
      "Epoch 47/60\n",
      "4/4 [==============================] - 6s 2s/step - loss: -8.5510 - accuracy: 0.3271\n",
      "Epoch 48/60\n",
      "4/4 [==============================] - 6s 2s/step - loss: -8.5510 - accuracy: 0.3271\n",
      "Epoch 49/60\n",
      "4/4 [==============================] - 6s 2s/step - loss: -8.5510 - accuracy: 0.3271\n",
      "Epoch 50/60\n",
      "4/4 [==============================] - 6s 2s/step - loss: -8.5510 - accuracy: 0.3271\n",
      "Epoch 51/60\n",
      "4/4 [==============================] - 6s 2s/step - loss: -8.5510 - accuracy: 0.3271\n",
      "Epoch 52/60\n",
      "4/4 [==============================] - 6s 2s/step - loss: -8.5510 - accuracy: 0.3271\n",
      "Epoch 53/60\n",
      "4/4 [==============================] - 6s 2s/step - loss: -8.5510 - accuracy: 0.3271\n",
      "Epoch 54/60\n",
      "4/4 [==============================] - 6s 2s/step - loss: -8.5510 - accuracy: 0.3271\n",
      "Epoch 55/60\n",
      "4/4 [==============================] - 6s 2s/step - loss: -8.5510 - accuracy: 0.3271\n",
      "Epoch 56/60\n",
      "4/4 [==============================] - 7s 2s/step - loss: -8.5510 - accuracy: 0.3271\n",
      "Epoch 57/60\n",
      "4/4 [==============================] - 6s 2s/step - loss: -8.5510 - accuracy: 0.3271\n",
      "Epoch 58/60\n",
      "4/4 [==============================] - 7s 2s/step - loss: -8.5510 - accuracy: 0.3271\n",
      "Epoch 59/60\n",
      "4/4 [==============================] - 7s 2s/step - loss: -8.5510 - accuracy: 0.3271\n",
      "Epoch 60/60\n",
      "4/4 [==============================] - 7s 2s/step - loss: -8.5510 - accuracy: 0.3271\n"
     ]
    }
   ],
   "source": [
    "EPOCHS = 60\n",
    "\n",
    "history = model.fit(\n",
    "    datagen.flow(X_train, y_train),\n",
    "    epochs=EPOCHS\n",
    ")"
   ]
  },
  {
   "cell_type": "markdown",
   "metadata": {},
   "source": [
    "### NN performance is too bad"
   ]
  }
 ],
 "metadata": {
  "kernelspec": {
   "display_name": "Python 3",
   "language": "python",
   "name": "python3"
  },
  "language_info": {
   "codemirror_mode": {
    "name": "ipython",
    "version": 3
   },
   "file_extension": ".py",
   "mimetype": "text/x-python",
   "name": "python",
   "nbconvert_exporter": "python",
   "pygments_lexer": "ipython3",
   "version": "3.11.3"
  }
 },
 "nbformat": 4,
 "nbformat_minor": 2
}
